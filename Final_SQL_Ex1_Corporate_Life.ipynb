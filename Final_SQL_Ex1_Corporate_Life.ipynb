{
  "nbformat": 4,
  "nbformat_minor": 0,
  "metadata": {
    "colab": {
      "provenance": [],
      "collapsed_sections": [],
      "include_colab_link": true
    },
    "kernelspec": {
      "name": "python3",
      "display_name": "Python 3"
    }
  },
  "cells": [
    {
      "cell_type": "markdown",
      "metadata": {
        "id": "view-in-github",
        "colab_type": "text"
      },
      "source": [
        "<a href=\"https://colab.research.google.com/github/ArielCohen1995/ArielSharedRepo/blob/main/Final_SQL_Ex1_Corporate_Life.ipynb\" target=\"_parent\"><img src=\"https://colab.research.google.com/assets/colab-badge.svg\" alt=\"Open In Colab\"/></a>"
      ]
    },
    {
      "cell_type": "markdown",
      "metadata": {
        "id": "2ecwi6zXl8xi"
      },
      "source": [
        "# SQL Exercise 1 - Corporate Life\n",
        "\n",
        "In this exercise, we will practice writing SQL queries using the [PyMySQL](https://pymysql.readthedocs.io/en/latest/) wrapper to analyze data about employees at a company.\n",
        "\n",
        "Please submit your solution as a Jupyter Notebook. All logic should be executed using SQL; use Python only to wrap your SQL queries.\n",
        "\n",
        "**Note:** This exercise may be run either locally or on Google Colab. If running on Colab, take care to follow the Colab-specific instructions."
      ]
    },
    {
      "cell_type": "markdown",
      "metadata": {
        "id": "DVkMEABMrZVy"
      },
      "source": [
        "**Colab Setup (optional)**\n",
        "\n",
        "If you are running this exercise on Google Colab, run the code cells below to set up MySQL on your Colab instance. **Note:** This creates a default MySQL user with username and password 'root'."
      ]
    },
    {
      "cell_type": "code",
      "metadata": {
        "id": "q4sFzXxyrpMT",
        "outputId": "fa9e21a7-e9fa-4274-c989-d0289533e695",
        "colab": {
          "base_uri": "https://localhost:8080/"
        }
      },
      "source": [
        "### CODE FOR COLAB (installing MySQL and starting MySQL service) ###\n",
        "! apt-get update\n",
        "! apt-get -y install mysql-server > /dev/null # (takes about a minute to execute)\n",
        "! service mysql start\n",
        "! mysql -e \"ALTER USER 'root'@'localhost' IDENTIFIED WITH mysql_native_password BY 'Arielou95!'\""
      ],
      "execution_count": 7,
      "outputs": [
        {
          "output_type": "stream",
          "name": "stdout",
          "text": [
            "Get:1 https://cloud.r-project.org/bin/linux/ubuntu bionic-cran40/ InRelease [3,626 B]\n",
            "Ign:2 https://developer.download.nvidia.com/compute/machine-learning/repos/ubuntu1804/x86_64  InRelease\n",
            "Get:3 https://developer.download.nvidia.com/compute/cuda/repos/ubuntu1804/x86_64  InRelease [1,581 B]\n",
            "Hit:4 https://developer.download.nvidia.com/compute/machine-learning/repos/ubuntu1804/x86_64  Release\n",
            "Get:5 http://security.ubuntu.com/ubuntu bionic-security InRelease [88.7 kB]\n",
            "Get:6 http://ppa.launchpad.net/c2d4u.team/c2d4u4.0+/ubuntu bionic InRelease [15.9 kB]\n",
            "Hit:7 http://archive.ubuntu.com/ubuntu bionic InRelease\n",
            "Get:8 http://archive.ubuntu.com/ubuntu bionic-updates InRelease [88.7 kB]\n",
            "Get:9 https://cloud.r-project.org/bin/linux/ubuntu bionic-cran40/ Packages [98.9 kB]\n",
            "Hit:10 http://ppa.launchpad.net/cran/libgit2/ubuntu bionic InRelease\n",
            "Get:11 https://developer.download.nvidia.com/compute/cuda/repos/ubuntu1804/x86_64  Packages [992 kB]\n",
            "Get:12 http://ppa.launchpad.net/deadsnakes/ppa/ubuntu bionic InRelease [15.9 kB]\n",
            "Get:13 http://archive.ubuntu.com/ubuntu bionic-backports InRelease [83.3 kB]\n",
            "Hit:15 http://ppa.launchpad.net/graphics-drivers/ppa/ubuntu bionic InRelease\n",
            "Get:16 http://ppa.launchpad.net/c2d4u.team/c2d4u4.0+/ubuntu bionic/main Sources [2,189 kB]\n",
            "Get:17 http://security.ubuntu.com/ubuntu bionic-security/universe amd64 Packages [1,554 kB]\n",
            "Get:18 http://archive.ubuntu.com/ubuntu bionic-updates/restricted amd64 Packages [1,267 kB]\n",
            "Get:19 http://security.ubuntu.com/ubuntu bionic-security/main amd64 Packages [3,035 kB]\n",
            "Get:20 http://ppa.launchpad.net/c2d4u.team/c2d4u4.0+/ubuntu bionic/main amd64 Packages [1,121 kB]\n",
            "Get:21 http://archive.ubuntu.com/ubuntu bionic-updates/universe amd64 Packages [2,332 kB]\n",
            "Get:22 http://archive.ubuntu.com/ubuntu bionic-updates/main amd64 Packages [3,472 kB]\n",
            "Fetched 16.4 MB in 4s (4,145 kB/s)\n",
            "Reading package lists... Done\n",
            " * Starting MySQL database server mysqld\n",
            "No directory, logging in with HOME=/\n",
            "   ...done.\n"
          ]
        }
      ]
    },
    {
      "cell_type": "code",
      "metadata": {
        "id": "0rZ5SLbf0cuT",
        "outputId": "6f2585db-9d90-4db4-a967-bb3317af6d3b",
        "colab": {
          "base_uri": "https://localhost:8080/"
        }
      },
      "source": [
        "### CODE FOR COLAB (check MySQL service status)\n",
        "! service mysql status\n",
        "# If this shows that MySQL is running, you are good!"
      ],
      "execution_count": 8,
      "outputs": [
        {
          "output_type": "stream",
          "name": "stdout",
          "text": [
            " * /usr/bin/mysqladmin  Ver 8.42 Distrib 5.7.40, for Linux on x86_64\n",
            "Copyright (c) 2000, 2022, Oracle and/or its affiliates.\n",
            "\n",
            "Oracle is a registered trademark of Oracle Corporation and/or its\n",
            "affiliates. Other names may be trademarks of their respective\n",
            "owners.\n",
            "\n",
            "Server version\t\t5.7.40-0ubuntu0.18.04.1\n",
            "Protocol version\t10\n",
            "Connection\t\tLocalhost via UNIX socket\n",
            "UNIX socket\t\t/var/run/mysqld/mysqld.sock\n",
            "Uptime:\t\t\t10 sec\n",
            "\n",
            "Threads: 1  Questions: 11  Slow queries: 0  Opens: 107  Flush tables: 1  Open tables: 100  Queries per second avg: 1.100\n"
          ]
        }
      ]
    },
    {
      "cell_type": "markdown",
      "metadata": {
        "id": "QZxDnmSsxrN3"
      },
      "source": [
        "**Questions (getting started):**\n",
        "1. Download the `pymysql` Python library with `pip install pymysql`. Import the library and display the version being used with `pymysql.__version__`.\n",
        "2. Download the [MySQL employees sample database](https://dev.mysql.com/doc/employee/en/employees-installation.html). If you are on Google Colab, you may use the code provided below.\n",
        "3. Using `pymysql.connect()` and your MySQL credentials (in Colab: username and password both `root`), create a PyMySQL connection object called `connection` that is connected to the `employees` database. See the [PyMySQL README](https://github.com/PyMySQL/PyMySQL) for syntax.\n",
        "  **Caution**: Do not share secret passwords in your submission file. If you are working locally and using a secret password, erase it in your submission or use a configuration file / environment variable to access it in your code.\n",
        "\n",
        "4. Using `connection`, find the following using SQL commands:\n",
        "  * The version of MySQL being used (Hint: `SELECT VERSION()`)\n",
        "  * A list of databases in the sample data\n",
        "  * A list of tables in the `employees` database"
      ]
    },
    {
      "cell_type": "code",
      "metadata": {
        "id": "cttaAmKMzPm9",
        "outputId": "f8b8c24b-373b-4f6d-86d7-a7329a61aed1",
        "colab": {
          "base_uri": "https://localhost:8080/"
        }
      },
      "source": [
        "#1\n",
        "! pip install pymysql\n",
        "import pymysql \n",
        "print(pymysql.__version__)\n",
        "\n",
        "\n",
        "#2\n",
        "! git clone https://github.com/datacharmer/test_db.git\n",
        "#!rm -rf /content/test_db\n",
        "%cd /content/test_db\n",
        "#! mysql -u root -p"
      ],
      "execution_count": 9,
      "outputs": [
        {
          "output_type": "stream",
          "name": "stdout",
          "text": [
            "Looking in indexes: https://pypi.org/simple, https://us-python.pkg.dev/colab-wheels/public/simple/\n",
            "Requirement already satisfied: pymysql in /usr/local/lib/python3.7/dist-packages (1.0.2)\n",
            "1.0.2\n",
            "Cloning into 'test_db'...\n",
            "remote: Enumerating objects: 120, done.\u001b[K\n",
            "remote: Counting objects: 100% (49/49), done.\u001b[K\n",
            "remote: Compressing objects: 100% (11/11), done.\u001b[K\n",
            "remote: Total 120 (delta 40), reused 41 (delta 38), pack-reused 71\u001b[K\n",
            "Receiving objects: 100% (120/120), 74.27 MiB | 21.29 MiB/s, done.\n",
            "Resolving deltas: 100% (62/62), done.\n",
            "Checking out files: 100% (25/25), done.\n",
            "/content/test_db\n"
          ]
        }
      ]
    },
    {
      "cell_type": "code",
      "source": [
        "#3\n",
        "%cd /content/test_db\n",
        "import pymysql \n",
        "connection = pymysql.connect(user='root', password='Arielou95!', host ='localhost')\n",
        "\n",
        "#4\n",
        "cur = connection.cursor()\n",
        "cur.execute(\"SELECT VERSION()\")\n",
        "output = cur.fetchall()\n",
        "print(output[0])\n",
        "\n",
        "! cd /content/test_db\n",
        "#! mysql -u root -p\n",
        "\n",
        "cur.execute(\"SHOW DATABASES\")\n",
        "output = cur.fetchall()\n",
        "print(output)\n",
        "\n",
        "cur.execute(\"SHOW tables in employees\")\n",
        "output = cur.fetchall()\n",
        "print(output)"
      ],
      "metadata": {
        "colab": {
          "base_uri": "https://localhost:8080/"
        },
        "id": "FC6U1llQFX6F",
        "outputId": "4784d25e-6fa9-474d-efea-0d8d7ebae8a1"
      },
      "execution_count": 2,
      "outputs": [
        {
          "output_type": "stream",
          "name": "stdout",
          "text": [
            "/content/test_db\n",
            "('5.7.40-0ubuntu0.18.04.1',)\n",
            "(('information_schema',), ('employees',), ('mysql',), ('performance_schema',), ('sys',))\n",
            "(('current_dept_emp',), ('departments',), ('dept_emp',), ('dept_emp_latest_date',), ('dept_manager',), ('employees',), ('salaries',), ('titles',))\n"
          ]
        }
      ]
    },
    {
      "cell_type": "markdown",
      "metadata": {
        "id": "mHH-7qGZmOC4"
      },
      "source": [
        "**Questions: (SQL queries - names and ages)**\n",
        "5. Get a list of full names of all female employees ordered by age (older to younger). Print out the first 10.\n",
        "1. Get the full name and age (in years without decimal points) of all employees. Print out 10 of them.\n",
        "1. Print the full name of one of the employees with the longest first name. (There are multiple correct answers, just print out one of them.)\n",
        "1. Get a list of the full names of all employees with the letter ‘z’ second to last in their last name. Print out 10 of them.\n",
        "1. Get a list of the full name of all employees where their full name is exactly 10 characters (including a space between the first and last name). Print out 10 of them."
      ]
    },
    {
      "cell_type": "code",
      "source": [
        "#5\n",
        "%cd /content/test_db\n",
        "import pymysql \n",
        "connection = pymysql.connect(user='root', password='Arielou95!', host ='localhost')\n",
        "cur = connection.cursor()\n",
        "\n",
        "cur.execute(\"USE employees\")\n",
        "output = cur.fetchall()\n",
        "print(output)\n",
        "\n",
        "cur.execute(\"SELECT CONCAT(first_name,' ', last_name) as full_name FROM employees WHERE gender ='F' ORDER BY birth_date desc LIMIT 10\")\n",
        "output = cur.fetchall()\n",
        "print(output)\n",
        "\n",
        "#6 \n",
        "cur.execute(\"SELECT CONCAT(first_name,' ', last_name) as full_name, (YEAR(date(now())) - YEAR(birth_date)) as age from employees LIMIT 10\")\n",
        "output = cur.fetchall()\n",
        "print(output)\n",
        "\n",
        "#7\n",
        "cur.execute(\"SELECT CONCAT(first_name,' ', last_name) as full_name from employees ORDER BY length(first_name) desc LIMIT 1\")\n",
        "output = cur.fetchall()\n",
        "print(output)\n",
        "\n",
        "#8\n",
        "cur.execute(\"SELECT CONCAT(first_name,' ', last_name) as full_name from employees WHERE substr(last_name, length(last_name)-1 ,1) = 'z' LIMIT 10\")\n",
        "output = cur.fetchall()\n",
        "print(output)\n",
        "\n",
        "#9\n",
        "cur.execute(\"SELECT CONCAT(first_name,' ', last_name) as full_name from employees WHERE length(first_name) + length(last_name) + 1 = 10 LIMIT 10\")\n",
        "output = cur.fetchall()\n",
        "print(output)"
      ],
      "metadata": {
        "colab": {
          "base_uri": "https://localhost:8080/"
        },
        "id": "WeF1z5K-JGkd",
        "outputId": "3946490b-3e8a-490e-e621-4fc062ad9f52"
      },
      "execution_count": 17,
      "outputs": [
        {
          "output_type": "stream",
          "name": "stdout",
          "text": [
            "/content/test_db\n",
            "()\n",
            "(('Magdalena Penn',), ('Jaewon Thummel',), ('Mizuhito Kobara',), ('Gopalakrishnan Angel',), ('Shay Servieres',), ('Arie Coullard',), ('Deniz Thibadeau',), ('Surveyors Bade',), ('Zhonghua Snyers',), ('Badri Schapire',))\n",
            "(('Georgi Facello', 69), ('Bezalel Simmel', 58), ('Parto Bamford', 63), ('Chirstian Koblick', 68), ('Kyoichi Maliniak', 67), ('Anneke Preusig', 69), ('Tzvetan Zielinski', 65), ('Saniya Kalloufi', 64), ('Sumant Peac', 70), ('Duangkaew Piveteau', 59))\n",
            "(('Gopalakrishnan Unno',),)\n",
            "(('Yolla Ellozy',), ('Morrie Piazza',), ('Danel Impagliazzo',), ('Susanna Brizzi',), ('Poorav Ranze',), ('Paddy Brizzi',), ('Manton Collavizza',), ('Freyja Brizzi',), ('Tonny Impagliazzo',), ('Lakshmi Demizu',))\n",
            "(('Mary Sluis',), ('Ramzi Erde',), ('Arif Merlo',), ('Bader Swan',), ('Huan Lortz',), ('Uri Lenart',), ('Tse Herber',), ('Udi Jansch',), ('Mona Azuma',), ('Hugo Rosis',))\n"
          ]
        }
      ]
    },
    {
      "cell_type": "markdown",
      "metadata": {
        "id": "QF3kS2y35cZo"
      },
      "source": [
        "**Questions: (SQL queries - positions and salaries)**\n",
        "\n",
        "10. Print all possible titles (each title only once).\n",
        "1. Print the full name of all department managers.\n",
        "1. Get a list of the each employee whose first name starts with ‘A’ and last name ends with ‘z’, and the maximum salary for each such employee. Print out 10 of them. Hint: Use a join on the `employees` and `salaries` tables.\n",
        "1. For each department print the department name and number of current employees. Hint: Use the `departments` and `current_dept_emp` tables.\n",
        "1. For each department print the department name and number of department managers.\n",
        "1. Print the full name and salary of the 10 highest paid employees. Use the maximum salary value that appears for each employee in the `salaries` table.\n",
        "1. Print a list of each year in the dataset and the average salary of all employees for that year. Hint: use the `from_date` field.\n",
        "1. For each department get the department name and full name of all employees who left the department in 1997. Print out 10 such employees and the departments they left.\n",
        "1. Get a list of the full name and number of titles for each employee who had at least three different titles. Print out 10 of them.\n"
      ]
    },
    {
      "cell_type": "code",
      "source": [
        "#10\n",
        "%cd /content/test_db\n",
        "import pymysql \n",
        "connection = pymysql.connect(user='root', password='Arielou95!', host ='localhost')\n",
        "cur = connection.cursor()\n",
        "\n",
        "cur.execute(\"USE employees\")\n",
        "output = cur.fetchall()\n",
        "print(output)\n",
        "\n",
        "cur.execute(\"SELECT distinct(title) FROM titles\")\n",
        "output = cur.fetchall()\n",
        "print(output)\n",
        "\n",
        "#11\n",
        "cur.execute(\"SELECT CONCAT(first_name,' ', last_name) as full_name from employees left join titles on employees.emp_no = titles.emp_no WHERE title = 'Manager'\")\n",
        "output = cur.fetchall()\n",
        "print(output)\n",
        "\n",
        "#12\n",
        "cur.execute(\"SELECT * FROM employees left join (SELECT emp_no, max(salary) FROM salaries group by emp_no) new_salaries on employees.emp_no = new_salaries.emp_no WHERE first_name like 'A%' and last_name like '%z'\")\n",
        "output = cur.fetchall()\n",
        "print(output)\n",
        "\n",
        "#13\n",
        "cur.execute(\"SELECT departments.dept_name, count(employees.emp_no) FROM departments, current_dept_emp, employees WHERE departments.dept_no = current_dept_emp.dept_no AND employees.emp_no = current_dept_emp.emp_no AND current_dept_emp.to_date ='9999-01-01' GROUP BY departments.dept_name\")\n",
        "output = cur.fetchall()\n",
        "print(output)\n",
        "\n",
        "#14\n",
        "cur.execute(\"SELECT departments.dept_name, count(employees.emp_no) FROM departments, current_dept_emp, titles, employees WHERE departments.dept_no = current_dept_emp.dept_no AND employees.emp_no = current_dept_emp.emp_no AND titles.emp_no = current_dept_emp.emp_no AND current_dept_emp.to_date ='9999-01-01' AND title ='Manager' GROUP BY departments.dept_name\")\n",
        "output = cur.fetchall()\n",
        "print(output)\n",
        "\n",
        "#15\n",
        "cur.execute(\"SELECT departments.dept_name, count(employees.emp_no) FROM departments, current_dept_emp, titles, employees WHERE departments.dept_no = current_dept_emp.dept_no AND employees.emp_no = current_dept_emp.emp_no AND titles.emp_no = current_dept_emp.emp_no AND current_dept_emp.to_date ='9999-01-01' AND title ='Manager' GROUP BY departments.dept_name\")\n",
        "output = cur.fetchall()\n",
        "print(output)\n",
        "\n",
        "#16\n",
        "cur.execute(\"SELECT CONCAT(first_name,' ', last_name) as full_name, sal FROM employees left join (SELECT emp_no, max(salary) as sal FROM salaries group by emp_no) new_salaries on employees.emp_no = new_salaries.emp_no ORDER BY new_salaries.sal desc LIMIT 10\")\n",
        "output = cur.fetchall()\n",
        "print(output)\n",
        "\n",
        "#17\n",
        "cur.execute(\"SELECT dept_name as Department_Left, CONCAT(first_name,' ', last_name) as full_name FROM departments, current_dept_emp, employees WHERE departments.dept_no = current_dept_emp.dept_no AND employees.emp_no = current_dept_emp.emp_no AND current_dept_emp.to_date like '1997%' LIMIT 10;\")\n",
        "output = cur.fetchall()\n",
        "print(output)\n",
        "\n",
        "#18\n",
        "cur.execute(\"SELECT CONCAT(first_name,' ', last_name) as full_name, count(titles.title) from titles left join employees on titles.emp_no = employees.emp_no GROUP BY CONCAT(first_name,' ', last_name) HAVING count(titles.title) > 2 LIMIT 10\")\n",
        "output = cur.fetchall()\n",
        "print(output)\n",
        "\n"
      ],
      "metadata": {
        "colab": {
          "base_uri": "https://localhost:8080/"
        },
        "id": "SSp3olOXXB2U",
        "outputId": "cf1fbd93-43ca-46a8-8b4d-57bdbfdb531b"
      },
      "execution_count": 18,
      "outputs": [
        {
          "output_type": "stream",
          "name": "stdout",
          "text": [
            "/content/test_db\n",
            "()\n",
            "(('Assistant Engineer',), ('Senior Staff',), ('Engineer',), ('Staff',), ('Technique Leader',), ('Senior Engineer',), ('Manager',))\n",
            "(('Margareta Markovitch',), ('Ebru Alpin',), ('Shirish Ossenbruggen',), ('Krassimir Wegerle',), ('DeForest Hagimont',), ('Peternela Onuegbe',), ('Przemyslawa Kaelbling',), ('Arie Staelin',), ('Tonny Butterworth',), ('Rosine Cools',), ('Marjo Giarratana',), ('Isamu Legleitner',), ('Rutger Hofmeyr',), ('Vishwani Minakawa',), ('Sanjoy Quadeer',), ('Hauke Zhang',), ('Hilary Kambil',), ('Karsten Sigstam',), ('Shem Kieras',), ('Leon DasSarma',), ('Xiaobin Spinelli',), ('Dung Pesch',), ('Oscar Ghazalie',), ('Yuchang Weedman',))\n",
            "((11650, datetime.date(1959, 11, 16), 'Arra', 'Luiz', 'M', datetime.date(1994, 1, 13), 11650, 45933), (11656, datetime.date(1963, 1, 8), 'Aimee', 'Muniz', 'F', datetime.date(1992, 3, 10), 11656, 71048), (12384, datetime.date(1964, 9, 11), 'Alagu', 'Oppitz', 'F', datetime.date(1989, 1, 21), 12384, 52569), (12504, datetime.date(1953, 1, 4), 'Adly', 'Rosaz', 'F', datetime.date(1987, 4, 17), 12504, 48227), (12723, datetime.date(1960, 10, 25), 'Arvin', 'Baez', 'M', datetime.date(1986, 6, 14), 12723, 84977), (13327, datetime.date(1957, 11, 1), 'Anyuan', 'Slutz', 'M', datetime.date(1987, 1, 31), 13327, 63627), (14313, datetime.date(1963, 11, 17), 'Armond', 'Muntz', 'M', datetime.date(1986, 6, 1), 14313, 41547), (14549, datetime.date(1957, 9, 9), 'Alain', 'Kopetz', 'M', datetime.date(1992, 4, 6), 14549, 77127), (15134, datetime.date(1952, 8, 2), 'Arun', 'Luiz', 'F', datetime.date(1986, 8, 16), 15134, 79964), (15332, datetime.date(1961, 12, 29), 'Aamer', 'Slutz', 'F', datetime.date(1989, 5, 19), 15332, 59091), (17621, datetime.date(1955, 11, 28), 'Adil', 'Lukaszewicz', 'M', datetime.date(1991, 12, 29), 17621, 77671), (18020, datetime.date(1952, 12, 6), 'Adhemar', 'Pelz', 'F', datetime.date(1986, 3, 31), 18020, 67929), (18256, datetime.date(1954, 10, 2), 'Anneke', 'Penz', 'F', datetime.date(1991, 3, 26), 18256, 46682), (19486, datetime.date(1957, 11, 21), 'Alois', 'Baez', 'M', datetime.date(1995, 4, 17), 19486, 66232), (20137, datetime.date(1954, 11, 17), 'Arvin', 'Munoz', 'M', datetime.date(1991, 10, 10), 20137, 56610), (20575, datetime.date(1958, 5, 13), 'Alper', 'Penz', 'F', datetime.date(1986, 6, 29), 20575, 52342), (21050, datetime.date(1963, 1, 23), 'Alper', 'Penz', 'F', datetime.date(1990, 5, 31), 21050, 46407), (21073, datetime.date(1961, 11, 30), 'Arra', 'Munoz', 'M', datetime.date(1997, 5, 4), 21073, 50759), (21353, datetime.date(1956, 11, 5), 'Atilio', 'Rosaz', 'M', datetime.date(1987, 9, 10), 21353, 55584), (22199, datetime.date(1963, 12, 25), 'Alois', 'Perz', 'M', datetime.date(1995, 4, 20), 22199, 47344), (22819, datetime.date(1961, 12, 16), 'Anestis', 'Koblitz', 'M', datetime.date(1985, 4, 29), 22819, 92337), (23250, datetime.date(1958, 2, 20), 'Alexius', 'Rosaz', 'M', datetime.date(1986, 11, 7), 23250, 73481), (23939, datetime.date(1962, 7, 5), 'Abdelghani', 'Perz', 'M', datetime.date(1993, 12, 23), 23939, 70542), (24844, datetime.date(1952, 10, 18), 'Anwar', 'Jumpertz', 'F', datetime.date(1985, 6, 24), 24844, 57910), (25243, datetime.date(1963, 12, 14), 'Abdelwaheb', 'Koblitz', 'M', datetime.date(1988, 8, 10), 25243, 122237), (25696, datetime.date(1958, 11, 2), 'Akeno', 'Muntz', 'M', datetime.date(1985, 7, 11), 25696, 116635), (25755, datetime.date(1954, 3, 6), 'Aria', 'Setiz', 'M', datetime.date(1987, 6, 25), 25755, 80006), (27923, datetime.date(1964, 7, 13), 'Aruna', 'Zedlitz', 'M', datetime.date(1997, 5, 25), 27923, 50920), (30453, datetime.date(1956, 11, 12), 'Arlette', 'Peroz', 'M', datetime.date(1988, 1, 22), 30453, 64743), (35583, datetime.date(1958, 12, 28), 'Ayonca', 'Sherertz', 'M', datetime.date(1989, 4, 28), 35583, 69224), (36304, datetime.date(1959, 8, 31), 'Anneli', 'Ambroszkiewicz', 'F', datetime.date(1993, 12, 26), 36304, 50079), (39718, datetime.date(1955, 6, 26), 'Aron', 'Zedlitz', 'M', datetime.date(1993, 4, 19), 39718, 43419), (40317, datetime.date(1954, 8, 5), 'Arvind', 'Rusterholz', 'M', datetime.date(1992, 7, 21), 40317, 75611), (41168, datetime.date(1954, 1, 16), 'Aran', 'Jumpertz', 'M', datetime.date(1993, 12, 7), 41168, 76481), (44291, datetime.date(1956, 11, 21), 'Adil', 'Koblitz', 'M', datetime.date(1994, 1, 31), 44291, 72578), (44404, datetime.date(1952, 5, 1), 'Augustine', 'Peroz', 'F', datetime.date(1990, 12, 7), 44404, 84022), (44850, datetime.date(1956, 8, 28), 'Aruna', 'Perz', 'M', datetime.date(1986, 11, 19), 44850, 88185), (47339, datetime.date(1964, 2, 3), 'Ayakannu', 'Koblitz', 'M', datetime.date(1987, 5, 18), 47339, 67993), (49434, datetime.date(1955, 1, 10), 'Adin', 'Koblitz', 'M', datetime.date(1985, 7, 1), 49434, 68254), (49679, datetime.date(1955, 9, 7), 'Alassane', 'Perz', 'F', datetime.date(1992, 10, 3), 49679, 54128), (49822, datetime.date(1962, 11, 24), 'Adamantios', 'Luiz', 'F', datetime.date(1991, 4, 30), 49822, 94562), (51153, datetime.date(1964, 4, 28), 'Atreye', 'Penz', 'M', datetime.date(1986, 1, 18), 51153, 50355), (51966, datetime.date(1957, 8, 9), 'Adil', 'Luiz', 'M', datetime.date(1985, 6, 7), 51966, 73469), (53710, datetime.date(1957, 6, 23), 'Avishai', 'Baaz', 'F', datetime.date(1985, 7, 10), 53710, 47437), (53899, datetime.date(1961, 9, 17), 'Aron', 'Lortz', 'F', datetime.date(1988, 9, 18), 53899, 43512), (57861, datetime.date(1953, 2, 2), 'Akhilish', 'Munoz', 'M', datetime.date(1989, 4, 25), 57861, 64845), (57958, datetime.date(1954, 12, 31), 'Akhilish', 'Setiz', 'M', datetime.date(1990, 9, 22), 57958, 72447), (60682, datetime.date(1954, 2, 27), 'Arunas', 'Sherertz', 'M', datetime.date(1995, 8, 16), 60682, 40000), (62889, datetime.date(1963, 1, 5), 'Abdelkader', 'Rusterholz', 'M', datetime.date(1993, 10, 5), 62889, 56589), (63189, datetime.date(1952, 12, 19), 'Arnd', 'Muniz', 'F', datetime.date(1990, 1, 25), 63189, 64952), (63454, datetime.date(1956, 6, 25), 'Alois', 'Erez', 'F', datetime.date(1992, 10, 12), 63454, 93422), (66004, datetime.date(1956, 6, 21), 'Arun', 'Sherertz', 'M', datetime.date(1992, 6, 8), 66004, 66599), (66014, datetime.date(1959, 10, 31), 'Akemi', 'Luiz', 'F', datetime.date(1990, 6, 12), 66014, 52221), (66220, datetime.date(1961, 1, 29), 'Aksel', 'Kopetz', 'M', datetime.date(1995, 6, 4), 66220, 51172), (66807, datetime.date(1965, 1, 21), 'Aiman', 'Rosaz', 'F', datetime.date(1987, 6, 3), 66807, 67873), (66891, datetime.date(1953, 8, 16), 'Abdelaziz', 'Lortz', 'M', datetime.date(1989, 10, 12), 66891, 71237), (67881, datetime.date(1958, 8, 11), 'Arif', 'Sherertz', 'M', datetime.date(1987, 10, 6), 67881, 94873), (67908, datetime.date(1956, 4, 25), 'Ashish', 'Koblitz', 'M', datetime.date(1990, 8, 17), 67908, 53728), (68336, datetime.date(1955, 3, 28), 'Alair', 'Rusterholz', 'M', datetime.date(1985, 9, 25), 68336, 64095), (68642, datetime.date(1952, 5, 26), 'Arvind', 'Jumpertz', 'M', datetime.date(1985, 12, 3), 68642, 88861), (68794, datetime.date(1957, 4, 23), 'Arno', 'Zedlitz', 'F', datetime.date(1988, 12, 15), 68794, 72356), (68807, datetime.date(1958, 2, 3), 'Akhilish', 'Slutz', 'F', datetime.date(1997, 2, 1), 68807, 56094), (68995, datetime.date(1953, 2, 5), 'Arif', 'Baez', 'M', datetime.date(1992, 3, 8), 68995, 49690), (69882, datetime.date(1959, 12, 16), 'Aimee', 'Baaz', 'M', datetime.date(1989, 9, 3), 69882, 82809), (71366, datetime.date(1958, 12, 29), 'Amalendu', 'Koblitz', 'F', datetime.date(1987, 11, 25), 71366, 117629), (72851, datetime.date(1961, 1, 29), 'Akhilish', 'Slutz', 'M', datetime.date(1987, 1, 24), 72851, 63560), (73343, datetime.date(1957, 11, 6), 'Alper', 'Luiz', 'M', datetime.date(1988, 8, 29), 73343, 97191), (74257, datetime.date(1957, 11, 28), 'Arvin', 'Rusterholz', 'M', datetime.date(1992, 1, 15), 74257, 55175), (74464, datetime.date(1961, 7, 1), 'Amabile', 'Perez', 'M', datetime.date(1987, 11, 19), 74464, 78052), (77850, datetime.date(1952, 8, 6), 'Arno', 'Baaz', 'M', datetime.date(1990, 12, 1), 77850, 70583), (78306, datetime.date(1964, 7, 7), 'Arto', 'Jumpertz', 'M', datetime.date(1988, 12, 14), 78306, 84608), (79613, datetime.date(1954, 7, 7), 'Akemi', 'Rosaz', 'M', datetime.date(1989, 12, 12), 79613, 78632), (80368, datetime.date(1956, 9, 26), 'Angus', 'Baaz', 'M', datetime.date(1985, 3, 8), 80368, 69939), (80488, datetime.date(1961, 10, 7), 'Alejandra', 'Perz', 'F', datetime.date(1985, 3, 13), 80488, 67170), (80830, datetime.date(1959, 7, 7), 'Alexius', 'Lukaszewicz', 'F', datetime.date(1987, 4, 16), 80830, 75965), (81373, datetime.date(1958, 4, 26), 'Arnd', 'Peroz', 'M', datetime.date(1987, 8, 11), 81373, 49107), (83412, datetime.date(1963, 6, 30), 'Anoosh', 'Lortz', 'F', datetime.date(1987, 10, 3), 83412, 62447), (83414, datetime.date(1964, 11, 22), 'Armond', 'Muniz', 'M', datetime.date(1994, 2, 28), 83414, 75421), (84115, datetime.date(1955, 12, 5), 'Arvind', 'Rosaz', 'F', datetime.date(1990, 2, 25), 84115, 74171), (84800, datetime.date(1960, 9, 16), 'Ashish', 'Erez', 'F', datetime.date(1989, 3, 19), 84800, 90352), (85706, datetime.date(1955, 11, 14), 'Adit', 'Lukaszewicz', 'M', datetime.date(1991, 11, 27), 85706, 73521), (86163, datetime.date(1963, 9, 10), 'Aksel', 'Wolniewicz', 'M', datetime.date(1988, 8, 29), 86163, 59463), (89081, datetime.date(1963, 11, 4), 'Ashish', 'Baaz', 'M', datetime.date(1989, 1, 5), 89081, 67915), (89947, datetime.date(1962, 1, 22), 'Ashish', 'Peroz', 'M', datetime.date(1987, 3, 24), 89947, 55840), (91684, datetime.date(1964, 6, 4), 'Arco', 'Setiz', 'M', datetime.date(1990, 12, 18), 91684, 77530), (92223, datetime.date(1964, 9, 23), 'Alagu', 'Lukaszewicz', 'F', datetime.date(1985, 4, 6), 92223, 61348), (92508, datetime.date(1954, 1, 17), 'Alassane', 'Baaz', 'M', datetime.date(1985, 7, 8), 92508, 70372), (94782, datetime.date(1963, 12, 29), 'Abdulla', 'Wolniewicz', 'F', datetime.date(1991, 9, 22), 94782, 64102), (97225, datetime.date(1954, 8, 17), 'Adam', 'Erez', 'F', datetime.date(1988, 5, 21), 97225, 71248), (97456, datetime.date(1958, 5, 10), 'Almudena', 'Pelz', 'F', datetime.date(1988, 11, 14), 97456, 64523), (97463, datetime.date(1959, 1, 31), 'Aloke', 'Rusterholz', 'F', datetime.date(1995, 12, 15), 97463, 81141), (97879, datetime.date(1958, 11, 30), 'Along', 'Sherertz', 'M', datetime.date(1989, 11, 13), 97879, 52167), (99196, datetime.date(1954, 1, 27), 'Achilleas', 'Ambroszkiewicz', 'M', datetime.date(1998, 1, 3), 99196, 66801), (100171, datetime.date(1957, 9, 11), 'Adil', 'Rosaz', 'F', datetime.date(1985, 2, 3), 100171, 57539), (100262, datetime.date(1964, 12, 15), 'Alain', 'Perz', 'M', datetime.date(1996, 8, 12), 100262, 66754), (100344, datetime.date(1956, 12, 5), 'Amstein', 'Penz', 'F', datetime.date(1985, 6, 23), 100344, 84690), (100633, datetime.date(1954, 3, 27), 'Adit', 'Rusterholz', 'M', datetime.date(1994, 6, 28), 100633, 73805), (101908, datetime.date(1961, 10, 4), 'Arch', 'Rusterholz', 'M', datetime.date(1989, 6, 19), 101908, 65679), (102097, datetime.date(1957, 4, 12), 'Arunachalam', 'Perez', 'M', datetime.date(1986, 9, 4), 102097, 60810), (102491, datetime.date(1955, 5, 29), 'Arnd', 'Lortz', 'F', datetime.date(1986, 5, 1), 102491, 62079), (102697, datetime.date(1961, 7, 5), 'Aluzio', 'Rosaz', 'F', datetime.date(1994, 3, 17), 102697, 63676), (102860, datetime.date(1959, 4, 11), 'Aria', 'Luiz', 'F', datetime.date(1992, 4, 19), 102860, 85630), (104914, datetime.date(1963, 11, 27), 'Arumugam', 'Baaz', 'F', datetime.date(1997, 3, 30), 104914, 45280), (105043, datetime.date(1962, 2, 14), 'Aimee', 'Baaz', 'F', datetime.date(1991, 11, 13), 105043, 43025), (105137, datetime.date(1957, 8, 26), 'Alain', 'Oppitz', 'F', datetime.date(1986, 8, 31), 105137, 56113), (105293, datetime.date(1956, 9, 19), 'Anyuan', 'Rosaz', 'M', datetime.date(1990, 8, 19), 105293, 67843), (106743, datetime.date(1952, 12, 10), 'Alselm', 'Erez', 'M', datetime.date(1988, 8, 15), 106743, 53643), (107174, datetime.date(1960, 5, 12), 'Adib', 'Perez', 'M', datetime.date(1998, 8, 18), 107174, 48804), (107373, datetime.date(1959, 9, 19), 'Atilio', 'Wolniewicz', 'M', datetime.date(1985, 9, 30), 107373, 79103), (107892, datetime.date(1953, 11, 6), 'Aral', 'Ambroszkiewicz', 'M', datetime.date(1985, 3, 4), 107892, 71708), (201997, datetime.date(1955, 3, 24), 'Aran', 'Baez', 'M', datetime.date(1985, 4, 7), 201997, 86150), (202318, datetime.date(1962, 11, 22), 'Atreyi', 'Luiz', 'F', datetime.date(1986, 6, 20), 202318, 97561), (204649, datetime.date(1959, 2, 11), 'Aris', 'Munoz', 'F', datetime.date(1996, 5, 20), 204649, 66154), (204812, datetime.date(1954, 4, 5), 'Alexius', 'Zedlitz', 'M', datetime.date(1988, 1, 21), 204812, 64893), (205046, datetime.date(1956, 10, 2), 'Aria', 'Muntz', 'M', datetime.date(1990, 4, 4), 205046, 48277), (205580, datetime.date(1955, 11, 8), 'Arunachalam', 'Koblitz', 'F', datetime.date(1989, 6, 26), 205580, 50882), (206232, datetime.date(1963, 7, 25), 'Abdelaziz', 'Peroz', 'F', datetime.date(1992, 2, 5), 206232, 87317), (207015, datetime.date(1961, 6, 6), 'Alagu', 'Setiz', 'M', datetime.date(1985, 8, 22), 207015, 109107), (207536, datetime.date(1954, 3, 20), 'Arch', 'Rusterholz', 'F', datetime.date(1990, 12, 1), 207536, 54938), (207863, datetime.date(1958, 1, 8), 'Aksel', 'Baaz', 'F', datetime.date(1999, 2, 24), 207863, 51375), (209706, datetime.date(1958, 7, 26), 'Anyuan', 'Munoz', 'M', datetime.date(1989, 12, 11), 209706, 82414), (210350, datetime.date(1957, 6, 3), 'Aloke', 'Perz', 'M', datetime.date(1995, 7, 16), 210350, 59266), (210721, datetime.date(1952, 5, 13), 'Ayonca', 'Oppitz', 'F', datetime.date(1985, 11, 23), 210721, 43173), (210811, datetime.date(1962, 7, 28), 'Alselm', 'Oppitz', 'F', datetime.date(1990, 11, 19), 210811, 62226), (210933, datetime.date(1961, 10, 22), 'Atilio', 'Baez', 'M', datetime.date(1990, 2, 18), 210933, 61113), (211928, datetime.date(1955, 11, 23), 'Abdelwaheb', 'Kopetz', 'M', datetime.date(1999, 8, 14), 211928, 84178), (212083, datetime.date(1956, 12, 8), 'Akeel', 'Lortz', 'F', datetime.date(1997, 10, 12), 212083, 59944), (214214, datetime.date(1959, 1, 14), 'Aris', 'Luiz', 'M', datetime.date(1994, 7, 1), 214214, 53705), (215337, datetime.date(1963, 9, 10), 'Arlette', 'Rusterholz', 'M', datetime.date(1987, 11, 13), 215337, 81031), (215722, datetime.date(1961, 6, 4), 'Anwar', 'Munoz', 'F', datetime.date(1992, 7, 28), 215722, 98470), (216241, datetime.date(1953, 10, 27), 'Arfst', 'Lortz', 'M', datetime.date(1997, 1, 27), 216241, 53234), (216773, datetime.date(1963, 6, 24), 'Aloke', 'Pelz', 'F', datetime.date(1992, 2, 19), 216773, 60168), (218061, datetime.date(1955, 9, 12), 'Adas', 'Rusterholz', 'M', datetime.date(1987, 5, 28), 218061, 66730), (219922, datetime.date(1962, 10, 21), 'Anneli', 'Koblitz', 'M', datetime.date(1986, 9, 18), 219922, 86390), (223957, datetime.date(1962, 10, 27), 'Angus', 'Muntz', 'F', datetime.date(1985, 10, 11), 223957, 76817), (224052, datetime.date(1959, 1, 1), 'Aleksander', 'Muntz', 'F', datetime.date(1988, 3, 12), 224052, 89456), (225501, datetime.date(1958, 6, 28), 'Augustine', 'Jumpertz', 'F', datetime.date(1989, 11, 27), 225501, 68993), (226534, datetime.date(1960, 3, 26), 'Avishai', 'Luiz', 'F', datetime.date(1986, 8, 14), 226534, 68652), (226855, datetime.date(1964, 8, 3), 'Aloke', 'Lukaszewicz', 'F', datetime.date(1986, 9, 11), 226855, 95432), (227353, datetime.date(1952, 10, 27), 'Aloys', 'Erez', 'M', datetime.date(1989, 8, 28), 227353, 69667), (228534, datetime.date(1956, 6, 11), 'Anyuan', 'Rusterholz', 'F', datetime.date(1988, 12, 10), 228534, 74638), (229361, datetime.date(1957, 4, 3), 'Aleksander', 'Lortz', 'M', datetime.date(1988, 7, 20), 229361, 67864), (229829, datetime.date(1961, 4, 20), 'Adamantios', 'Oppitz', 'F', datetime.date(1989, 9, 22), 229829, 96049), (231530, datetime.date(1956, 9, 10), 'Arch', 'Lukaszewicz', 'F', datetime.date(1991, 6, 23), 231530, 86510), (234965, datetime.date(1958, 6, 7), 'Aimee', 'Lukaszewicz', 'M', datetime.date(1990, 9, 22), 234965, 78233), (234978, datetime.date(1961, 9, 9), 'Akhilish', 'Ambroszkiewicz', 'F', datetime.date(1987, 8, 22), 234978, 113200), (235629, datetime.date(1952, 3, 12), 'Aleksander', 'Perz', 'M', datetime.date(1987, 4, 30), 235629, 84868), (236112, datetime.date(1956, 10, 4), 'Aleksandar', 'Zedlitz', 'M', datetime.date(1991, 3, 2), 236112, 63025), (236125, datetime.date(1952, 5, 17), 'Abdulah', 'Jumpertz', 'F', datetime.date(1986, 4, 6), 236125, 98192), (236917, datetime.date(1961, 7, 25), 'Aleksander', 'Perez', 'F', datetime.date(1989, 5, 8), 236917, 79683), (237383, datetime.date(1952, 11, 16), 'Arra', 'Erez', 'F', datetime.date(1990, 9, 4), 237383, 75915), (237832, datetime.date(1959, 5, 18), 'Alassane', 'Baez', 'F', datetime.date(1985, 7, 2), 237832, 75755), (239681, datetime.date(1960, 12, 9), 'Armond', 'Wolniewicz', 'F', datetime.date(1992, 6, 22), 239681, 63179), (242069, datetime.date(1955, 2, 13), 'Angus', 'Perz', 'M', datetime.date(1988, 8, 8), 242069, 66291), (242411, datetime.date(1961, 10, 20), 'Anestis', 'Muniz', 'M', datetime.date(1990, 7, 7), 242411, 93069), (242770, datetime.date(1964, 9, 29), 'Abdelwaheb', 'Peroz', 'M', datetime.date(1986, 2, 20), 242770, 95757), (242914, datetime.date(1960, 8, 28), 'Adhemar', 'Oppitz', 'F', datetime.date(1985, 10, 7), 242914, 122062), (243919, datetime.date(1959, 2, 21), 'Arve', 'Jumpertz', 'M', datetime.date(1994, 6, 6), 243919, 68694), (244539, datetime.date(1953, 10, 28), 'Aloys', 'Jumpertz', 'F', datetime.date(1988, 4, 18), 244539, 76336), (244873, datetime.date(1965, 1, 4), 'Arunachalam', 'Oppitz', 'M', datetime.date(1986, 5, 20), 244873, 115179), (244935, datetime.date(1956, 6, 12), 'Arto', 'Zedlitz', 'F', datetime.date(1987, 7, 14), 244935, 93355), (245740, datetime.date(1955, 11, 15), 'Arun', 'Pelz', 'M', datetime.date(1988, 1, 14), 245740, 57392), (246550, datetime.date(1962, 4, 18), 'Aemilian', 'Peroz', 'M', datetime.date(1986, 11, 22), 246550, 68232), (247408, datetime.date(1954, 10, 8), 'Aamod', 'Perez', 'F', datetime.date(1987, 11, 6), 247408, 89369), (247681, datetime.date(1955, 10, 22), 'Alejandra', 'Muniz', 'F', datetime.date(1986, 8, 21), 247681, 72868), (247834, datetime.date(1957, 8, 18), 'Alselm', 'Penz', 'M', datetime.date(1986, 12, 28), 247834, 70788), (249600, datetime.date(1963, 6, 25), 'Aral', 'Pelz', 'M', datetime.date(1988, 9, 30), 249600, 61130), (249885, datetime.date(1962, 3, 20), 'Arup', 'Lortz', 'F', datetime.date(1985, 4, 2), 249885, 81666), (250659, datetime.date(1960, 11, 2), 'Apostol', 'Perz', 'F', datetime.date(1986, 9, 27), 250659, 67568), (250798, datetime.date(1964, 10, 27), 'Arvin', 'Jumpertz', 'M', datetime.date(1996, 7, 11), 250798, 60532), (252390, datetime.date(1962, 6, 13), 'Abdulah', 'Kopetz', 'M', datetime.date(1985, 6, 3), 252390, 74928), (252422, datetime.date(1954, 3, 10), 'Arunachalam', 'Baaz', 'M', datetime.date(1987, 6, 25), 252422, 43732), (252962, datetime.date(1953, 12, 9), 'Arto', 'Oppitz', 'F', datetime.date(1993, 5, 8), 252962, 77292), (254715, datetime.date(1955, 9, 2), 'Arun', 'Jumpertz', 'M', datetime.date(1994, 5, 2), 254715, 62353), (254837, datetime.date(1960, 7, 30), 'Abdulla', 'Ambroszkiewicz', 'F', datetime.date(1996, 6, 2), 254837, 50364), (254901, datetime.date(1957, 5, 2), 'Aamer', 'Zedlitz', 'M', datetime.date(1997, 2, 18), 254901, 77078), (256068, datetime.date(1960, 5, 10), 'Aran', 'Jumpertz', 'F', datetime.date(1988, 3, 4), 256068, 74393), (256333, datetime.date(1957, 3, 5), 'Aluzio', 'Koblitz', 'F', datetime.date(1985, 10, 9), 256333, 77086), (257366, datetime.date(1954, 3, 28), 'Arno', 'Lukaszewicz', 'M', datetime.date(1990, 9, 12), 257366, 56996), (258294, datetime.date(1959, 3, 27), 'Anestis', 'Koblitz', 'F', datetime.date(1987, 2, 5), 258294, 40031), (258448, datetime.date(1956, 12, 8), 'Akemi', 'Munoz', 'M', datetime.date(1985, 5, 26), 258448, 96809), (258806, datetime.date(1956, 5, 22), 'Aral', 'Peroz', 'M', datetime.date(1992, 11, 1), 258806, 56682), (259308, datetime.date(1958, 9, 26), 'Aloys', 'Oppitz', 'F', datetime.date(1988, 4, 15), 259308, 67572), (261040, datetime.date(1952, 3, 12), 'Arnould', 'Peroz', 'F', datetime.date(1986, 9, 21), 261040, 41275), (263709, datetime.date(1964, 7, 28), 'Anestis', 'Rusterholz', 'M', datetime.date(1985, 3, 21), 263709, 52676), (263875, datetime.date(1955, 10, 21), 'Arlette', 'Muniz', 'F', datetime.date(1994, 3, 15), 263875, 100194), (265440, datetime.date(1952, 4, 24), 'Ashish', 'Jumpertz', 'F', datetime.date(1996, 1, 7), 265440, 52904), (266153, datetime.date(1959, 9, 12), 'Anoosh', 'Lortz', 'M', datetime.date(1992, 3, 21), 266153, 71304), (266263, datetime.date(1955, 1, 16), 'Arno', 'Kopetz', 'F', datetime.date(1996, 6, 13), 266263, 45552), (266370, datetime.date(1964, 12, 16), 'Annemarie', 'Ambroszkiewicz', 'F', datetime.date(1997, 7, 31), 266370, 75122), (268450, datetime.date(1963, 10, 20), 'Abdulla', 'Rusterholz', 'M', datetime.date(1990, 1, 21), 268450, 83764), (269852, datetime.date(1964, 12, 18), 'Anwar', 'Muntz', 'M', datetime.date(1990, 9, 23), 269852, 62001), (270769, datetime.date(1962, 3, 25), 'Alper', 'Perez', 'M', datetime.date(1985, 9, 23), 270769, 89599), (271393, datetime.date(1963, 5, 16), 'Arvind', 'Rosaz', 'F', datetime.date(1991, 11, 17), 271393, 61172), (271411, datetime.date(1955, 6, 9), 'Akhilish', 'Muniz', 'M', datetime.date(1989, 3, 7), 271411, 70368), (271904, datetime.date(1964, 3, 17), 'Alejandra', 'Rosaz', 'F', datetime.date(1986, 8, 2), 271904, 64184), (272171, datetime.date(1964, 9, 12), 'Alair', 'Pelz', 'M', datetime.date(1993, 4, 26), 272171, 41029), (274158, datetime.date(1962, 10, 10), 'Aimee', 'Penz', 'F', datetime.date(1988, 3, 31), 274158, 60458), (274396, datetime.date(1956, 9, 28), 'Adib', 'Munoz', 'F', datetime.date(1989, 3, 19), 274396, 55382), (275929, datetime.date(1958, 5, 11), 'Aron', 'Penz', 'M', datetime.date(1992, 10, 30), 275929, 52468), (276308, datetime.date(1964, 12, 12), 'Aram', 'Slutz', 'F', datetime.date(1986, 9, 21), 276308, 72230), (278288, datetime.date(1959, 3, 29), 'Avishai', 'Erez', 'M', datetime.date(1986, 6, 21), 278288, 93309), (278656, datetime.date(1961, 7, 13), 'Aemilian', 'Muniz', 'M', datetime.date(1987, 8, 2), 278656, 96259), (279079, datetime.date(1955, 6, 25), 'Adly', 'Koblitz', 'F', datetime.date(1986, 7, 11), 279079, 59528), (279107, datetime.date(1954, 12, 15), 'Alejandro', 'Baez', 'M', datetime.date(1994, 9, 12), 279107, 82037), (280169, datetime.date(1952, 6, 29), 'Aimee', 'Sherertz', 'M', datetime.date(1985, 5, 30), 280169, 91174), (280199, datetime.date(1953, 3, 25), 'Aruna', 'Pelz', 'M', datetime.date(1988, 8, 20), 280199, 70535), (280713, datetime.date(1955, 7, 1), 'Aiman', 'Penz', 'M', datetime.date(1996, 1, 13), 280713, 47704), (281068, datetime.date(1957, 3, 19), 'Angus', 'Wolniewicz', 'F', datetime.date(1989, 9, 26), 281068, 60796), (281366, datetime.date(1954, 12, 2), 'Anyuan', 'Luiz', 'M', datetime.date(1989, 6, 12), 281366, 46894), (281607, datetime.date(1964, 7, 5), 'Abdelghani', 'Pelz', 'M', datetime.date(1998, 10, 28), 281607, 44433), (282256, datetime.date(1957, 1, 17), 'Augustine', 'Rusterholz', 'M', datetime.date(1987, 1, 9), 282256, 118398), (284107, datetime.date(1958, 12, 2), 'Arto', 'Oppitz', 'M', datetime.date(1988, 9, 25), 284107, 93241), (284818, datetime.date(1953, 4, 30), 'Aron', 'Lortz', 'M', datetime.date(1988, 2, 3), 284818, 61676), (285725, datetime.date(1958, 6, 29), 'Adhemar', 'Rusterholz', 'M', datetime.date(1991, 3, 26), 285725, 53695), (286147, datetime.date(1960, 6, 20), 'Angus', 'Koblitz', 'F', datetime.date(1992, 7, 17), 286147, 58114), (286290, datetime.date(1957, 9, 29), 'Ayonca', 'Kopetz', 'F', datetime.date(1991, 6, 14), 286290, 90590), (286770, datetime.date(1964, 12, 14), 'Adamantios', 'Ambroszkiewicz', 'F', datetime.date(1990, 2, 2), 286770, 86864), (286852, datetime.date(1953, 3, 13), 'Anwar', 'Oppitz', 'F', datetime.date(1985, 5, 6), 286852, 67504), (287406, datetime.date(1953, 1, 8), 'Arra', 'Slutz', 'F', datetime.date(1987, 11, 16), 287406, 102039), (288261, datetime.date(1955, 7, 24), 'Alassane', 'Baaz', 'M', datetime.date(1992, 10, 11), 288261, 58189), (288698, datetime.date(1955, 11, 5), 'Abdelwaheb', 'Penz', 'M', datetime.date(1988, 1, 21), 288698, 60924), (288727, datetime.date(1953, 5, 23), 'Arie', 'Rusterholz', 'M', datetime.date(1995, 4, 19), 288727, 54919), (290862, datetime.date(1963, 7, 26), 'Adas', 'Rusterholz', 'F', datetime.date(1990, 7, 5), 290862, 68361), (291389, datetime.date(1957, 1, 28), 'Abdelaziz', 'Muntz', 'F', datetime.date(1985, 10, 22), 291389, 103802), (291852, datetime.date(1955, 10, 15), 'Arvind', 'Baaz', 'F', datetime.date(1991, 4, 11), 291852, 62832), (292861, datetime.date(1962, 12, 19), 'Angel', 'Lukaszewicz', 'M', datetime.date(1988, 3, 21), 292861, 73292), (294888, datetime.date(1957, 9, 19), 'Aluzio', 'Ambroszkiewicz', 'M', datetime.date(1986, 4, 24), 294888, 70917), (296016, datetime.date(1953, 1, 23), 'Ayakannu', 'Munoz', 'F', datetime.date(1985, 4, 19), 296016, 90747), (297331, datetime.date(1954, 12, 28), 'Alenka', 'Lortz', 'M', datetime.date(1985, 9, 13), 297331, 61583), (297795, datetime.date(1952, 5, 30), 'Aksel', 'Baez', 'F', datetime.date(1985, 11, 8), 297795, 88558), (298028, datetime.date(1960, 9, 23), 'Arra', 'Koblitz', 'M', datetime.date(1990, 2, 7), 298028, 64439), (299226, datetime.date(1961, 3, 24), 'Aloke', 'Luiz', 'M', datetime.date(1986, 3, 7), 299226, 108160), (400431, datetime.date(1955, 10, 14), 'Aria', 'Perez', 'M', datetime.date(1985, 12, 11), 400431, 62108), (400862, datetime.date(1963, 12, 2), 'Adas', 'Kopetz', 'M', datetime.date(1993, 11, 7), 400862, 48550), (400969, datetime.date(1957, 6, 14), 'Aleksandar', 'Rusterholz', 'M', datetime.date(1987, 12, 23), 400969, 49495), (401008, datetime.date(1954, 7, 16), 'Adit', 'Penz', 'M', datetime.date(1987, 8, 7), 401008, 86039), (401229, datetime.date(1960, 7, 7), 'Arunachalam', 'Rusterholz', 'F', datetime.date(1993, 10, 25), 401229, 57491), (401309, datetime.date(1952, 8, 22), 'Arvind', 'Sherertz', 'M', datetime.date(1990, 7, 3), 401309, 70780), (401424, datetime.date(1953, 2, 16), 'Alper', 'Wolniewicz', 'F', datetime.date(1990, 11, 12), 401424, 63138), (401700, datetime.date(1961, 11, 23), 'Aloke', 'Pelz', 'F', datetime.date(1988, 11, 11), 401700, 103950), (402091, datetime.date(1960, 7, 16), 'Arunas', 'Perz', 'M', datetime.date(1992, 8, 22), 402091, 59966), (404463, datetime.date(1959, 12, 21), 'Aloys', 'Lukaszewicz', 'F', datetime.date(1985, 2, 12), 404463, 91664), (404468, datetime.date(1953, 3, 16), 'Angel', 'Baez', 'M', datetime.date(1993, 9, 24), 404468, 63507), (405609, datetime.date(1953, 4, 15), 'Akeno', 'Penz', 'F', datetime.date(1989, 10, 16), 405609, 118869), (406630, datetime.date(1964, 12, 15), 'Aruna', 'Erez', 'M', datetime.date(1994, 12, 18), 406630, 60450), (406802, datetime.date(1961, 2, 21), 'Aloys', 'Baez', 'M', datetime.date(1991, 7, 8), 406802, 81324), (406952, datetime.date(1957, 7, 1), 'Arve', 'Baaz', 'M', datetime.date(1986, 8, 8), 406952, 86119), (408948, datetime.date(1953, 6, 14), 'Arve', 'Munoz', 'F', datetime.date(1986, 7, 15), 408948, 84779), (409817, datetime.date(1953, 8, 26), 'Arra', 'Lukaszewicz', 'M', datetime.date(1995, 6, 27), 409817, 85094), (410244, datetime.date(1962, 4, 4), 'Arnould', 'Rusterholz', 'M', datetime.date(1985, 3, 7), 410244, 98122), (411275, datetime.date(1953, 9, 14), 'Alper', 'Rusterholz', 'M', datetime.date(1995, 12, 11), 411275, 84524), (411490, datetime.date(1959, 2, 2), 'Arno', 'Perz', 'M', datetime.date(1986, 6, 21), 411490, 56858), (411770, datetime.date(1958, 8, 18), 'Annemarie', 'Kopetz', 'M', datetime.date(1988, 9, 6), 411770, 68938), (413768, datetime.date(1963, 8, 23), 'Almudena', 'Sherertz', 'M', datetime.date(1992, 10, 10), 413768, 71475), (414403, datetime.date(1959, 5, 5), 'Armond', 'Rusterholz', 'M', datetime.date(1997, 5, 26), 414403, 55279), (414407, datetime.date(1961, 6, 2), 'Arve', 'Rosaz', 'M', datetime.date(1988, 1, 20), 414407, 88661), (414806, datetime.date(1956, 8, 3), 'Aimee', 'Jumpertz', 'M', datetime.date(1991, 9, 8), 414806, 44748), (414932, datetime.date(1961, 5, 21), 'Arto', 'Lortz', 'F', datetime.date(1986, 7, 16), 414932, 102000), (415167, datetime.date(1959, 12, 24), 'Aron', 'Jumpertz', 'M', datetime.date(1987, 11, 29), 415167, 85221), (415691, datetime.date(1954, 10, 22), 'Avishai', 'Jumpertz', 'M', datetime.date(1990, 10, 16), 415691, 62762), (416118, datetime.date(1960, 4, 3), 'Aloke', 'Perz', 'M', datetime.date(1986, 10, 14), 416118, 81928), (416842, datetime.date(1958, 9, 3), 'Adam', 'Erez', 'M', datetime.date(1990, 1, 20), 416842, 69974), (418602, datetime.date(1956, 7, 7), 'Aron', 'Muniz', 'M', datetime.date(1988, 5, 15), 418602, 84821), (418675, datetime.date(1960, 9, 6), 'Adin', 'Ambroszkiewicz', 'M', datetime.date(1990, 11, 4), 418675, 100513), (419094, datetime.date(1959, 9, 17), 'Ayonca', 'Peroz', 'M', datetime.date(1992, 5, 28), 419094, 83351), (419359, datetime.date(1952, 4, 15), 'Arie', 'Slutz', 'M', datetime.date(1985, 11, 10), 419359, 59987), (421039, datetime.date(1965, 1, 28), 'Aemilian', 'Zedlitz', 'M', datetime.date(1988, 12, 23), 421039, 56246), (421099, datetime.date(1960, 3, 14), 'Amalendu', 'Lukaszewicz', 'F', datetime.date(1988, 10, 17), 421099, 46637), (421639, datetime.date(1962, 11, 4), 'Arun', 'Pelz', 'M', datetime.date(1998, 3, 24), 421639, 56227), (422375, datetime.date(1960, 6, 1), 'Alejandra', 'Penz', 'F', datetime.date(1989, 5, 4), 422375, 54931), (422468, datetime.date(1961, 7, 15), 'Arun', 'Pelz', 'M', datetime.date(1987, 4, 27), 422468, 60409), (425992, datetime.date(1955, 8, 11), 'Adam', 'Perz', 'F', datetime.date(1985, 12, 19), 425992, 60063), (426099, datetime.date(1953, 4, 1), 'Alair', 'Sherertz', 'F', datetime.date(1986, 12, 25), 426099, 61348), (427668, datetime.date(1963, 10, 17), 'Adit', 'Penz', 'M', datetime.date(1995, 4, 20), 427668, 55134), (427745, datetime.date(1963, 1, 4), 'Aemilian', 'Sherertz', 'M', datetime.date(1985, 6, 10), 427745, 69572), (427885, datetime.date(1962, 6, 23), 'Arch', 'Slutz', 'F', datetime.date(1992, 5, 7), 427885, 74133), (428052, datetime.date(1952, 7, 26), 'Aksel', 'Peroz', 'F', datetime.date(1990, 12, 10), 428052, 51416), (428607, datetime.date(1964, 3, 14), 'Aleksander', 'Jumpertz', 'F', datetime.date(1985, 6, 1), 428607, 56825), (429249, datetime.date(1965, 1, 28), 'Alassane', 'Wolniewicz', 'M', datetime.date(1986, 10, 6), 429249, 64852), (429285, datetime.date(1956, 1, 4), 'Aamod', 'Slutz', 'M', datetime.date(1992, 10, 2), 429285, 85436), (429764, datetime.date(1954, 6, 22), 'Adamantios', 'Muniz', 'M', datetime.date(1989, 1, 25), 429764, 66037), (430021, datetime.date(1960, 2, 20), 'Anneli', 'Wolniewicz', 'M', datetime.date(1993, 7, 3), 430021, 64281), (430561, datetime.date(1963, 6, 16), 'Atreyi', 'Munoz', 'M', datetime.date(1989, 7, 28), 430561, 56909), (431093, datetime.date(1952, 7, 9), 'Aamod', 'Wolniewicz', 'M', datetime.date(1989, 8, 21), 431093, 82130), (431581, datetime.date(1962, 11, 6), 'Aran', 'Munoz', 'M', datetime.date(1992, 10, 3), 431581, 98857), (432807, datetime.date(1952, 12, 23), 'Alenka', 'Oppitz', 'M', datetime.date(1987, 12, 3), 432807, 94600), (432809, datetime.date(1953, 4, 30), 'Aral', 'Zedlitz', 'M', datetime.date(1989, 5, 29), 432809, 56017), (433374, datetime.date(1960, 1, 19), 'Anwar', 'Slutz', 'F', datetime.date(1990, 1, 20), 433374, 51848), (433797, datetime.date(1956, 6, 16), 'Aris', 'Slutz', 'M', datetime.date(1985, 6, 19), 433797, 88934), (435362, datetime.date(1960, 11, 22), 'Aluzio', 'Munoz', 'M', datetime.date(1985, 2, 22), 435362, 72575), (435898, datetime.date(1953, 7, 24), 'Alejandro', 'Perez', 'M', datetime.date(1996, 4, 29), 435898, 56382), (436945, datetime.date(1960, 7, 31), 'Anestis', 'Luiz', 'M', datetime.date(1985, 3, 22), 436945, 78807), (437671, datetime.date(1963, 3, 5), 'Anneke', 'Koblitz', 'M', datetime.date(1988, 4, 12), 437671, 42389), (438384, datetime.date(1958, 8, 24), 'Alejandra', 'Muniz', 'M', datetime.date(1996, 8, 11), 438384, 46173), (438739, datetime.date(1959, 8, 8), 'Aleksandar', 'Zedlitz', 'M', datetime.date(1987, 8, 3), 438739, 62060), (439452, datetime.date(1957, 3, 16), 'Aram', 'Zedlitz', 'M', datetime.date(1989, 2, 7), 439452, 109005), (440032, datetime.date(1959, 1, 15), 'Arie', 'Zedlitz', 'M', datetime.date(1993, 10, 8), 440032, 83175), (440108, datetime.date(1960, 11, 11), 'Angel', 'Pelz', 'F', datetime.date(1991, 6, 20), 440108, 70674), (441786, datetime.date(1961, 11, 24), 'Aksel', 'Zedlitz', 'M', datetime.date(1986, 8, 22), 441786, 41323), (442606, datetime.date(1964, 9, 19), 'Atreye', 'Penz', 'M', datetime.date(1991, 3, 14), 442606, 112578), (443079, datetime.date(1952, 7, 20), 'Aram', 'Penz', 'M', datetime.date(1991, 2, 27), 443079, 54999), (443864, datetime.date(1963, 9, 5), 'Akeno', 'Erez', 'M', datetime.date(1989, 3, 29), 443864, 53986), (445347, datetime.date(1958, 7, 29), 'Alain', 'Pelz', 'M', datetime.date(1987, 3, 6), 445347, 60636), (446810, datetime.date(1963, 2, 7), 'Aiichiro', 'Erez', 'F', datetime.date(1986, 2, 20), 446810, 99274), (451748, datetime.date(1954, 8, 31), 'Arch', 'Koblitz', 'F', datetime.date(1994, 10, 30), 451748, 70619), (451881, datetime.date(1956, 3, 2), 'Alenka', 'Oppitz', 'F', datetime.date(1985, 10, 5), 451881, 65320), (452084, datetime.date(1956, 3, 10), 'Arfst', 'Oppitz', 'F', datetime.date(1994, 10, 3), 452084, 58019), (452204, datetime.date(1953, 10, 21), 'Aria', 'Penz', 'M', datetime.date(1997, 4, 3), 452204, 88360), (456013, datetime.date(1961, 12, 12), 'Atreyi', 'Peroz', 'F', datetime.date(1986, 2, 2), 456013, 83536), (456511, datetime.date(1961, 2, 3), 'Akeno', 'Perez', 'M', datetime.date(1991, 1, 3), 456511, 72663), (456654, datetime.date(1963, 12, 27), 'Adhemar', 'Erez', 'F', datetime.date(1986, 5, 5), 456654, 96993), (457127, datetime.date(1961, 1, 18), 'Amalendu', 'Pelz', 'M', datetime.date(1995, 7, 14), 457127, 40000), (457444, datetime.date(1956, 11, 14), 'Arvind', 'Penz', 'F', datetime.date(1990, 6, 28), 457444, 58460), (457839, datetime.date(1963, 12, 15), 'Arto', 'Penz', 'F', datetime.date(1986, 5, 4), 457839, 118712), (459169, datetime.date(1961, 2, 1), 'Adel', 'Penz', 'M', datetime.date(1996, 4, 3), 459169, 67568), (459967, datetime.date(1960, 6, 1), 'Alagu', 'Setiz', 'M', datetime.date(1988, 6, 24), 459967, 65165), (460730, datetime.date(1964, 9, 19), 'Anestis', 'Luiz', 'M', datetime.date(1991, 8, 1), 460730, 69053), (461461, datetime.date(1964, 9, 4), 'Arvind', 'Perz', 'M', datetime.date(1985, 11, 2), 461461, 66238), (461692, datetime.date(1956, 7, 24), 'Abdelkader', 'Rusterholz', 'M', datetime.date(1989, 1, 23), 461692, 79892), (463362, datetime.date(1952, 5, 25), 'Anneli', 'Muniz', 'M', datetime.date(1992, 9, 1), 463362, 47106), (464700, datetime.date(1961, 4, 14), 'Anoosh', 'Wolniewicz', 'M', datetime.date(1995, 3, 21), 464700, 48716), (468165, datetime.date(1952, 9, 13), 'Armond', 'Slutz', 'M', datetime.date(1985, 10, 3), 468165, 59677), (469766, datetime.date(1956, 4, 1), 'Aamer', 'Peroz', 'F', datetime.date(1985, 9, 16), 469766, 52533), (470692, datetime.date(1956, 3, 9), 'Aloys', 'Jumpertz', 'F', datetime.date(1986, 1, 14), 470692, 85909), (470751, datetime.date(1956, 10, 12), 'Anneke', 'Erez', 'M', datetime.date(1992, 3, 16), 470751, 49035), (471644, datetime.date(1964, 11, 18), 'Arumugam', 'Setiz', 'M', datetime.date(1989, 7, 21), 471644, 56802), (472812, datetime.date(1964, 11, 20), 'Anneli', 'Perez', 'M', datetime.date(1987, 9, 17), 472812, 82742), (473664, datetime.date(1961, 5, 9), 'Atreye', 'Ambroszkiewicz', 'F', datetime.date(1989, 7, 25), 473664, 71890), (474785, datetime.date(1960, 3, 27), 'Adly', 'Lortz', 'M', datetime.date(1985, 5, 5), 474785, 58132), (475934, datetime.date(1952, 3, 19), 'Arch', 'Munoz', 'M', datetime.date(1987, 8, 29), 475934, 75673), (476550, datetime.date(1963, 5, 11), 'Alenka', 'Luiz', 'F', datetime.date(1986, 4, 29), 476550, 57664), (477215, datetime.date(1964, 9, 7), 'Arra', 'Pelz', 'F', datetime.date(1994, 9, 14), 477215, 61795), (477948, datetime.date(1963, 9, 20), 'Annemarie', 'Rusterholz', 'M', datetime.date(1992, 12, 19), 477948, 82070), (478528, datetime.date(1962, 3, 15), 'Alois', 'Peroz', 'F', datetime.date(1990, 8, 16), 478528, 54165), (479723, datetime.date(1963, 5, 23), 'Aamod', 'Oppitz', 'F', datetime.date(1995, 10, 8), 479723, 57932), (479833, datetime.date(1961, 10, 4), 'Aron', 'Luiz', 'M', datetime.date(1990, 9, 7), 479833, 82322), (479851, datetime.date(1962, 7, 10), 'Aleksandar', 'Kopetz', 'M', datetime.date(1992, 9, 7), 479851, 111183), (480179, datetime.date(1959, 5, 26), 'Adly', 'Oppitz', 'F', datetime.date(1986, 3, 26), 480179, 58218), (480745, datetime.date(1959, 12, 4), 'Adel', 'Perez', 'F', datetime.date(1986, 5, 25), 480745, 52553), (483831, datetime.date(1956, 11, 16), 'Adib', 'Slutz', 'M', datetime.date(1993, 10, 2), 483831, 43022), (484020, datetime.date(1952, 10, 21), 'Ayakannu', 'Oppitz', 'M', datetime.date(1986, 1, 14), 484020, 71440), (484798, datetime.date(1958, 5, 20), 'Aris', 'Baaz', 'M', datetime.date(1990, 8, 23), 484798, 52909), (485209, datetime.date(1957, 11, 8), 'Abdelghani', 'Oppitz', 'F', datetime.date(1987, 3, 17), 485209, 50777), (485977, datetime.date(1960, 6, 14), 'Aemilian', 'Wolniewicz', 'M', datetime.date(1990, 11, 11), 485977, 62960), (488153, datetime.date(1955, 4, 18), 'Annemarie', 'Jumpertz', 'M', datetime.date(1993, 4, 12), 488153, 54648), (490621, datetime.date(1959, 4, 24), 'Arvind', 'Lortz', 'M', datetime.date(1997, 2, 9), 490621, 56511), (491864, datetime.date(1960, 5, 26), 'Arvin', 'Perez', 'M', datetime.date(1986, 3, 2), 491864, 76966), (491869, datetime.date(1962, 10, 23), 'Annemarie', 'Penz', 'M', datetime.date(1986, 2, 27), 491869, 74738), (492157, datetime.date(1956, 3, 27), 'Abdelaziz', 'Perz', 'M', datetime.date(1993, 8, 5), 492157, 82826), (492366, datetime.date(1953, 3, 28), 'Abdulla', 'Jumpertz', 'M', datetime.date(1988, 3, 30), 492366, 55470), (493590, datetime.date(1953, 2, 27), 'Akeno', 'Zedlitz', 'M', datetime.date(1989, 2, 3), 493590, 65619), (494710, datetime.date(1953, 5, 9), 'Aris', 'Rusterholz', 'F', datetime.date(1986, 8, 21), 494710, 67380), (498310, datetime.date(1953, 11, 3), 'Arve', 'Luiz', 'M', datetime.date(1989, 9, 5), 498310, 66802), (499820, datetime.date(1956, 1, 23), 'Akeel', 'Baez', 'M', datetime.date(1987, 10, 27), 499820, 126355), (499838, datetime.date(1959, 9, 7), 'Annemarie', 'Peroz', 'M', datetime.date(1996, 1, 19), 499838, 53972))\n",
            "(('Customer Service', 17569), ('Development', 61386), ('Finance', 12437), ('Human Resources', 12898), ('Marketing', 14842), ('Production', 53304), ('Quality Management', 14546), ('Research', 15441), ('Sales', 37701))\n",
            "(('Customer Service', 4), ('Development', 2), ('Finance', 2), ('Human Resources', 2), ('Marketing', 2), ('Production', 4), ('Quality Management', 4), ('Research', 2), ('Sales', 2))\n",
            "(('Customer Service', 4), ('Development', 2), ('Finance', 2), ('Human Resources', 2), ('Marketing', 2), ('Production', 4), ('Quality Management', 4), ('Research', 2), ('Sales', 2))\n",
            "(('Tokuyasu Pesch', 158220), ('Honesty Mukaidono', 156286), ('Xiahua Whitcomb', 155709), ('Sanjai Luders', 155513), ('Tsutomu Alameldin', 155377), ('Willard Baca', 154459), ('Lidong Meriste', 154376), ('Charmane Griswold', 153715), ('Weijing Chenoweth', 152710), ('Weicheng Hatcliff', 152687))\n",
            "(('Development', 'Prasadram Heyers'), ('Research', 'Arumugam Ossenbruggen'), ('Production', 'Domenick Peltason'), ('Finance', 'Shigehito Kropatsch'), ('Development', 'Lubomir Nitsch'), ('Production', 'Masanao Bain'), ('Human Resources', 'Shalesh dAstous'), ('Development', 'Jianhui Zuberek'), ('Customer Service', 'Avishai Bahr'), ('Production', 'Berthier Menhoudj'))\n",
            "(('Aamer Bahl', 3), ('Aamer Bahr', 3), ('Aamer Demke', 3), ('Aamer Gill', 3), ('Aamer Gyorkos', 4), ('Aamer Kornyak', 3), ('Aamer Peha', 4), ('Aamer Soloway', 3), ('Aamer Spell', 3), ('Aamer Syang', 3))\n"
          ]
        }
      ]
    }
  ]
}